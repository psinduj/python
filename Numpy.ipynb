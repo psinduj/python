{
 "cells": [
  {
   "cell_type": "markdown",
   "id": "0a342073-4ffd-47a9-9ef0-ccec0fe1fec1",
   "metadata": {},
   "source": [
    "### NUMPY\n",
    "- in the python have lists that are serve thr purpose of arrays but they are slow in process\n",
    "- numpy aims to provide an array object that is up to 50  faster than traditional python lists.\n",
    "- they array object in numpy is called ndarray\n",
    "  "
   ]
  },
  {
   "cell_type": "code",
   "execution_count": 121,
   "id": "75e00cef-f357-4873-91d6-ff5cf37462d0",
   "metadata": {},
   "outputs": [],
   "source": [
    "import numpy as np"
   ]
  },
  {
   "cell_type": "code",
   "execution_count": 122,
   "id": "590df047-113a-4049-a757-a159f5fd9fa4",
   "metadata": {},
   "outputs": [
    {
     "data": {
      "text/plain": [
       "numpy.ndarray"
      ]
     },
     "execution_count": 122,
     "metadata": {},
     "output_type": "execute_result"
    }
   ],
   "source": [
    "#array creation\n",
    "a = np.array(10) \n",
    "type(a)"
   ]
  },
  {
   "cell_type": "code",
   "execution_count": 123,
   "id": "ff08bb44-8985-44c9-af66-dc3a06fb0321",
   "metadata": {},
   "outputs": [
    {
     "data": {
      "text/plain": [
       "0"
      ]
     },
     "execution_count": 123,
     "metadata": {},
     "output_type": "execute_result"
    }
   ],
   "source": [
    "#zero dimensional\n",
    "z=np.array(10)\n",
    "z.ndim"
   ]
  },
  {
   "cell_type": "code",
   "execution_count": 124,
   "id": "4e7ec327-54bd-41dc-9941-444ac5e523fb",
   "metadata": {},
   "outputs": [
    {
     "data": {
      "text/plain": [
       "1"
      ]
     },
     "execution_count": 124,
     "metadata": {},
     "output_type": "execute_result"
    }
   ],
   "source": [
    "#1- dimensional\n",
    "o = np.array([10,20,30])\n",
    "o.ndim"
   ]
  },
  {
   "cell_type": "code",
   "execution_count": 125,
   "id": "a8a96fb2-65b5-480c-8252-600093097967",
   "metadata": {},
   "outputs": [
    {
     "data": {
      "text/plain": [
       "2"
      ]
     },
     "execution_count": 125,
     "metadata": {},
     "output_type": "execute_result"
    }
   ],
   "source": [
    "# 2- dimensional\n",
    "t = np.array([[10,12,12,15]])\n",
    "t.ndim"
   ]
  },
  {
   "cell_type": "code",
   "execution_count": 126,
   "id": "28d7f772-6dbf-42f6-b725-ee26f152063c",
   "metadata": {},
   "outputs": [
    {
     "data": {
      "text/plain": [
       "3"
      ]
     },
     "execution_count": 126,
     "metadata": {},
     "output_type": "execute_result"
    }
   ],
   "source": [
    "#3 -dimensional\n",
    "th = np.array([[[10,2,3,5,6,7]]])\n",
    "th.ndim"
   ]
  },
  {
   "cell_type": "code",
   "execution_count": 127,
   "id": "781b3285-3eff-4371-acd7-69d085748acb",
   "metadata": {},
   "outputs": [],
   "source": [
    "#change the data ofarray elements\n",
    "a = np.array([10,20,30])"
   ]
  },
  {
   "cell_type": "code",
   "execution_count": 128,
   "id": "a950eb51-4717-4de6-8e59-1db500e2fba5",
   "metadata": {},
   "outputs": [
    {
     "data": {
      "text/plain": [
       "dtype('int32')"
      ]
     },
     "execution_count": 128,
     "metadata": {},
     "output_type": "execute_result"
    }
   ],
   "source": [
    "a.dtype"
   ]
  },
  {
   "cell_type": "code",
   "execution_count": 129,
   "id": "23094a8d-b73e-4f47-b77b-544e2fbb1901",
   "metadata": {},
   "outputs": [
    {
     "data": {
      "text/plain": [
       "dtype('float64')"
      ]
     },
     "execution_count": 129,
     "metadata": {},
     "output_type": "execute_result"
    }
   ],
   "source": [
    "a = np.array([10,20,30], dtype = 'float')\n",
    "a.dtype\n",
    "\n"
   ]
  },
  {
   "cell_type": "code",
   "execution_count": 130,
   "id": "d812a1ff-cadb-4b3a-8e44-562073347434",
   "metadata": {},
   "outputs": [
    {
     "data": {
      "text/plain": [
       "array([10., 20., 30.])"
      ]
     },
     "execution_count": 130,
     "metadata": {},
     "output_type": "execute_result"
    }
   ],
   "source": [
    "a"
   ]
  },
  {
   "cell_type": "code",
   "execution_count": 131,
   "id": "87352fb3-a48e-4f10-9e44-f5473044674f",
   "metadata": {},
   "outputs": [
    {
     "name": "stdout",
     "output_type": "stream",
     "text": [
      "float64\n",
      "hello\n"
     ]
    },
    {
     "data": {
      "text/plain": [
       "array([10., 20., 30.])"
      ]
     },
     "execution_count": 131,
     "metadata": {},
     "output_type": "execute_result"
    }
   ],
   "source": [
    "a = np.array([10,20,30], dtype = 'float')\n",
    "print(a.dtype)\n",
    "print('hello')\n",
    "a"
   ]
  },
  {
   "cell_type": "markdown",
   "id": "1883bd78-dd13-4b40-981b-00d6a55bec5a",
   "metadata": {},
   "source": [
    "# other ways of creating an array\n",
    "1  arrange\n",
    "2  linspace\n",
    "3  zeros\n",
    "4  ones\n",
    "5 random"
   ]
  },
  {
   "cell_type": "code",
   "execution_count": 132,
   "id": "4b62f2af-5759-4bd5-a67d-b7c818979aca",
   "metadata": {},
   "outputs": [
    {
     "data": {
      "text/plain": [
       "array([ 1,  2,  3,  4,  5,  6,  7,  8,  9, 10, 11, 12, 13, 14, 15, 16, 17,\n",
       "       18, 19])"
      ]
     },
     "execution_count": 132,
     "metadata": {},
     "output_type": "execute_result"
    }
   ],
   "source": [
    "a = np.arange(1,20)\n",
    "a"
   ]
  },
  {
   "cell_type": "code",
   "execution_count": 133,
   "id": "640e088b-07fa-4f9a-aec8-f4babef68c52",
   "metadata": {},
   "outputs": [
    {
     "data": {
      "text/plain": [
       "array([ 1,  3,  5,  7,  9, 11, 13, 15, 17, 19])"
      ]
     },
     "execution_count": 133,
     "metadata": {},
     "output_type": "execute_result"
    }
   ],
   "source": [
    "a = np.arange(1,20,2)\n",
    "a"
   ]
  },
  {
   "cell_type": "code",
   "execution_count": 134,
   "id": "d16cb840-4202-47ea-b875-32f2f0260f12",
   "metadata": {},
   "outputs": [
    {
     "data": {
      "text/plain": [
       "array([1.  , 1.25, 1.5 , 1.75, 2.  ])"
      ]
     },
     "execution_count": 134,
     "metadata": {},
     "output_type": "execute_result"
    }
   ],
   "source": [
    "b = np.linspace(1,2,5)\n",
    "b"
   ]
  },
  {
   "cell_type": "code",
   "execution_count": 135,
   "id": "201506ba-b944-4dcf-ac00-cfc874cc39b2",
   "metadata": {},
   "outputs": [
    {
     "data": {
      "text/plain": [
       "array([1.        , 1.28571429, 1.57142857, 1.85714286, 2.14285714,\n",
       "       2.42857143, 2.71428571, 3.        , 3.28571429, 3.57142857,\n",
       "       3.85714286, 4.14285714, 4.42857143, 4.71428571, 5.        ])"
      ]
     },
     "execution_count": 135,
     "metadata": {},
     "output_type": "execute_result"
    }
   ],
   "source": [
    "b = np.linspace(1,5,15)\n",
    "b"
   ]
  },
  {
   "cell_type": "code",
   "execution_count": 136,
   "id": "8b6a68b1-4e63-4a61-9461-24faf766f638",
   "metadata": {},
   "outputs": [
    {
     "data": {
      "text/plain": [
       "(array([1.        , 1.28571429, 1.57142857, 1.85714286, 2.14285714,\n",
       "        2.42857143, 2.71428571, 3.        , 3.28571429, 3.57142857,\n",
       "        3.85714286, 4.14285714, 4.42857143, 4.71428571, 5.        ]),\n",
       " 0.2857142857142857)"
      ]
     },
     "execution_count": 136,
     "metadata": {},
     "output_type": "execute_result"
    }
   ],
   "source": [
    "b = np.linspace(1,5,15 , retstep=True)\n",
    "b"
   ]
  },
  {
   "cell_type": "code",
   "execution_count": 137,
   "id": "82d9d1f1-b5f9-4f9a-89bc-fbbf05fb23bf",
   "metadata": {},
   "outputs": [
    {
     "data": {
      "text/plain": [
       "array([[0., 0.],\n",
       "       [0., 0.]])"
      ]
     },
     "execution_count": 137,
     "metadata": {},
     "output_type": "execute_result"
    }
   ],
   "source": [
    "z= np.zeros([2,2])\n",
    "z"
   ]
  },
  {
   "cell_type": "code",
   "execution_count": 138,
   "id": "8921fd62-9fba-4edf-a20a-251d71136f5f",
   "metadata": {},
   "outputs": [
    {
     "data": {
      "text/plain": [
       "array([[1., 1., 1.],\n",
       "       [1., 1., 1.],\n",
       "       [1., 1., 1.]])"
      ]
     },
     "execution_count": 138,
     "metadata": {},
     "output_type": "execute_result"
    }
   ],
   "source": [
    "o =np.ones([3,3])\n",
    "o"
   ]
  },
  {
   "cell_type": "code",
   "execution_count": 139,
   "id": "7ff58726-679d-490d-913b-116cd5ad0ebd",
   "metadata": {},
   "outputs": [
    {
     "data": {
      "text/plain": [
       "array([[0.75602566, 0.95209218, 0.77822383, 0.05271216, 0.3124015 ],\n",
       "       [0.21242654, 0.312007  , 0.53246369, 0.86571363, 0.24382798],\n",
       "       [0.87408827, 0.05729933, 0.87917657, 0.83093268, 0.15901517],\n",
       "       [0.80708278, 0.65071371, 0.97586213, 0.15580848, 0.13358953],\n",
       "       [0.74962764, 0.01265182, 0.35395464, 0.6398055 , 0.20547418]])"
      ]
     },
     "execution_count": 139,
     "metadata": {},
     "output_type": "execute_result"
    }
   ],
   "source": [
    "r = np.random.rand(5,5)\n",
    "r"
   ]
  },
  {
   "cell_type": "code",
   "execution_count": 140,
   "id": "e18860c9-3459-4f3e-a7db-e9d8bc91a99b",
   "metadata": {},
   "outputs": [
    {
     "data": {
      "text/plain": [
       "array([2, 4, 4, 4, 1, 1, 2, 1, 4, 4])"
      ]
     },
     "execution_count": 140,
     "metadata": {},
     "output_type": "execute_result"
    }
   ],
   "source": [
    "r = np.random.randint(5,size=10)\n",
    "r"
   ]
  },
  {
   "cell_type": "markdown",
   "id": "cba3576a-5ff8-4050-8f70-683ad09472e4",
   "metadata": {},
   "source": [
    "### Slicing and indexing  the array"
   ]
  },
  {
   "cell_type": "code",
   "execution_count": 141,
   "id": "b7ea7589-aad8-455f-a2a4-fbfe8eab2d62",
   "metadata": {},
   "outputs": [
    {
     "data": {
      "text/plain": [
       "array([[1, 2, 3],\n",
       "       [2, 3, 4]])"
      ]
     },
     "execution_count": 141,
     "metadata": {},
     "output_type": "execute_result"
    }
   ],
   "source": [
    "a= np.array([[1,2,3],[2,3,4]])\n",
    "a"
   ]
  },
  {
   "cell_type": "code",
   "execution_count": 142,
   "id": "28d35bc2-4f39-4c82-94e5-eb6d3d0a8afd",
   "metadata": {},
   "outputs": [
    {
     "data": {
      "text/plain": [
       "4"
      ]
     },
     "execution_count": 142,
     "metadata": {},
     "output_type": "execute_result"
    }
   ],
   "source": [
    "a[1,2]"
   ]
  },
  {
   "cell_type": "code",
   "execution_count": 143,
   "id": "5b5c9dd6-68da-42f5-afcc-68a0dbd2768b",
   "metadata": {},
   "outputs": [
    {
     "data": {
      "text/plain": [
       "array([[2, 3],\n",
       "       [3, 4]])"
      ]
     },
     "execution_count": 143,
     "metadata": {},
     "output_type": "execute_result"
    }
   ],
   "source": [
    "a[0:,1:]"
   ]
  },
  {
   "cell_type": "code",
   "execution_count": 144,
   "id": "d69f5f69-7341-40f3-9e37-0c175b54d94d",
   "metadata": {},
   "outputs": [
    {
     "data": {
      "text/plain": [
       "array([1, 4])"
      ]
     },
     "execution_count": 144,
     "metadata": {},
     "output_type": "execute_result"
    }
   ],
   "source": [
    "#1 and 4\n",
    "a[[0,1],[0,2]]"
   ]
  },
  {
   "cell_type": "code",
   "execution_count": 145,
   "id": "83eb4090-b520-49c6-b759-54794332d0b4",
   "metadata": {
    "scrolled": true
   },
   "outputs": [
    {
     "data": {
      "text/plain": [
       "array([3, 2])"
      ]
     },
     "execution_count": 145,
     "metadata": {},
     "output_type": "execute_result"
    }
   ],
   "source": [
    "#3 and 2\n",
    "a[[0,1],[2,0]]"
   ]
  },
  {
   "cell_type": "code",
   "execution_count": 146,
   "id": "eec7e442-c79a-460a-8c65-2c06dd2e23fe",
   "metadata": {},
   "outputs": [
    {
     "data": {
      "text/plain": [
       "1"
      ]
     },
     "execution_count": 146,
     "metadata": {},
     "output_type": "execute_result"
    }
   ],
   "source": [
    "a[0,0]"
   ]
  },
  {
   "cell_type": "code",
   "execution_count": 147,
   "id": "21b1e984-24d0-4594-bcb4-979841167d83",
   "metadata": {},
   "outputs": [
    {
     "data": {
      "text/plain": [
       "3"
      ]
     },
     "execution_count": 147,
     "metadata": {},
     "output_type": "execute_result"
    }
   ],
   "source": [
    "a[1,1]"
   ]
  },
  {
   "cell_type": "markdown",
   "id": "8a00b2dd-6ac8-477e-9dec-ff2764a862f1",
   "metadata": {},
   "source": [
    "## Reshaping the arrays\n"
   ]
  },
  {
   "cell_type": "code",
   "execution_count": 148,
   "id": "f3584d59-25a2-47a0-8d62-f621d16985ac",
   "metadata": {},
   "outputs": [],
   "source": [
    "a =np.random.rand(5,2)"
   ]
  },
  {
   "cell_type": "code",
   "execution_count": 149,
   "id": "456ded74-6f58-478f-8b55-05b2237e84d8",
   "metadata": {},
   "outputs": [
    {
     "data": {
      "text/plain": [
       "array([[0.6560446 , 0.81324162],\n",
       "       [0.94561706, 0.73574213],\n",
       "       [0.97207423, 0.17705059],\n",
       "       [0.7869384 , 0.28748255],\n",
       "       [0.49168894, 0.81600771]])"
      ]
     },
     "execution_count": 149,
     "metadata": {},
     "output_type": "execute_result"
    }
   ],
   "source": [
    "a"
   ]
  },
  {
   "cell_type": "code",
   "execution_count": 150,
   "id": "758b7856-d820-428e-8106-506bc3f78842",
   "metadata": {},
   "outputs": [
    {
     "data": {
      "text/plain": [
       "array([[0.6560446 , 0.81324162, 0.94561706, 0.73574213, 0.97207423],\n",
       "       [0.17705059, 0.7869384 , 0.28748255, 0.49168894, 0.81600771]])"
      ]
     },
     "execution_count": 150,
     "metadata": {},
     "output_type": "execute_result"
    }
   ],
   "source": [
    "a.reshape(2,5)\n"
   ]
  },
  {
   "cell_type": "code",
   "execution_count": 151,
   "id": "15cdfc36-3f3e-4b42-8318-1be4f7b5e45e",
   "metadata": {},
   "outputs": [
    {
     "ename": "ValueError",
     "evalue": "cannot reshape array of size 10 into shape (6,2)",
     "output_type": "error",
     "traceback": [
      "\u001b[1;31m---------------------------------------------------------------------------\u001b[0m",
      "\u001b[1;31mValueError\u001b[0m                                Traceback (most recent call last)",
      "Cell \u001b[1;32mIn[151], line 1\u001b[0m\n\u001b[1;32m----> 1\u001b[0m a\u001b[38;5;241m.\u001b[39mreshape(\u001b[38;5;241m6\u001b[39m,\u001b[38;5;241m2\u001b[39m)\n",
      "\u001b[1;31mValueError\u001b[0m: cannot reshape array of size 10 into shape (6,2)"
     ]
    }
   ],
   "source": [
    "a.reshape(6,2)\n"
   ]
  },
  {
   "cell_type": "code",
   "execution_count": 152,
   "id": "d87f8ff6-de70-473b-8570-3d7b13f7cc84",
   "metadata": {},
   "outputs": [
    {
     "data": {
      "text/plain": [
       "array([[0.6560446 ],\n",
       "       [0.81324162],\n",
       "       [0.94561706],\n",
       "       [0.73574213],\n",
       "       [0.97207423],\n",
       "       [0.17705059],\n",
       "       [0.7869384 ],\n",
       "       [0.28748255],\n",
       "       [0.49168894],\n",
       "       [0.81600771]])"
      ]
     },
     "execution_count": 152,
     "metadata": {},
     "output_type": "execute_result"
    }
   ],
   "source": [
    "a.reshape(10,1)"
   ]
  },
  {
   "cell_type": "code",
   "execution_count": 153,
   "id": "42d86941-1e53-4467-aca3-f357f9f22e0d",
   "metadata": {},
   "outputs": [
    {
     "data": {
      "text/plain": [
       "array([[0.6560446 , 0.81324162, 0.94561706, 0.73574213, 0.97207423,\n",
       "        0.17705059, 0.7869384 , 0.28748255, 0.49168894, 0.81600771]])"
      ]
     },
     "execution_count": 153,
     "metadata": {},
     "output_type": "execute_result"
    }
   ],
   "source": [
    "a.reshape(1,10)"
   ]
  },
  {
   "cell_type": "code",
   "execution_count": 154,
   "id": "c459f2b0-b207-4e34-8f77-8f3031e89f89",
   "metadata": {},
   "outputs": [
    {
     "data": {
      "text/plain": [
       "array([[0.6560446 , 0.81324162],\n",
       "       [0.94561706, 0.73574213],\n",
       "       [0.97207423, 0.17705059],\n",
       "       [0.7869384 , 0.28748255],\n",
       "       [0.49168894, 0.81600771]])"
      ]
     },
     "execution_count": 154,
     "metadata": {},
     "output_type": "execute_result"
    }
   ],
   "source": [
    "a.reshape(5,-1)"
   ]
  },
  {
   "cell_type": "code",
   "execution_count": 155,
   "id": "b8288871-e863-4dc2-b3a2-e5f48a62e73b",
   "metadata": {},
   "outputs": [
    {
     "data": {
      "text/plain": [
       "array([[0.6560446 , 0.81324162, 0.94561706, 0.73574213, 0.97207423],\n",
       "       [0.17705059, 0.7869384 , 0.28748255, 0.49168894, 0.81600771]])"
      ]
     },
     "execution_count": 155,
     "metadata": {},
     "output_type": "execute_result"
    }
   ],
   "source": [
    "a.reshape(-1,5)"
   ]
  },
  {
   "cell_type": "markdown",
   "id": "23dd8bcc-c798-4c0b-8faf-63bf8aa40229",
   "metadata": {},
   "source": [
    "##### Aggregate functions\n",
    " - the python numpy aggregate functions are sum,min,max,mean,median,average,,product,std,variance,percentile and corrcoef"
   ]
  },
  {
   "cell_type": "code",
   "execution_count": 156,
   "id": "3ae5cbc8-2ee2-4dcd-ae14-489760e1af22",
   "metadata": {},
   "outputs": [
    {
     "data": {
      "text/plain": [
       "0.17705059051421101"
      ]
     },
     "execution_count": 156,
     "metadata": {},
     "output_type": "execute_result"
    }
   ],
   "source": [
    "a.min()"
   ]
  },
  {
   "cell_type": "code",
   "execution_count": 157,
   "id": "657f0494-5766-4c32-bfec-3f359426e2d4",
   "metadata": {},
   "outputs": [
    {
     "data": {
      "text/plain": [
       "0.9720742330855215"
      ]
     },
     "execution_count": 157,
     "metadata": {},
     "output_type": "execute_result"
    }
   ],
   "source": [
    "a.max()"
   ]
  },
  {
   "cell_type": "code",
   "execution_count": 158,
   "id": "1fbee0aa-4aee-4e89-b708-86c53b4a8125",
   "metadata": {},
   "outputs": [
    {
     "data": {
      "text/plain": [
       "0.06483221409947244"
      ]
     },
     "execution_count": 158,
     "metadata": {},
     "output_type": "execute_result"
    }
   ],
   "source": [
    "a.var()"
   ]
  },
  {
   "cell_type": "code",
   "execution_count": 159,
   "id": "70ce6c05-b548-460d-869e-902eda8ee9b7",
   "metadata": {},
   "outputs": [
    {
     "data": {
      "text/plain": [
       "0.6681887838967114"
      ]
     },
     "execution_count": 159,
     "metadata": {},
     "output_type": "execute_result"
    }
   ],
   "source": [
    "a.mean()"
   ]
  },
  {
   "cell_type": "code",
   "execution_count": 160,
   "id": "bc9ff004-5c36-4b23-bb04-c789fcc20323",
   "metadata": {},
   "outputs": [
    {
     "data": {
      "text/plain": [
       "0.2546217078323693"
      ]
     },
     "execution_count": 160,
     "metadata": {},
     "output_type": "execute_result"
    }
   ],
   "source": [
    "a.std()"
   ]
  },
  {
   "cell_type": "markdown",
   "id": "4122b6bd-98b2-4b12-b23b-98490d00f3ba",
   "metadata": {},
   "source": [
    "#### Stacking \n",
    " is used to join two different arrays\n",
    "- vertical stacking\n",
    "- horizotal stacking"
   ]
  },
  {
   "cell_type": "code",
   "execution_count": 161,
   "id": "aaeda3dc-1a44-4316-9c09-46e5e29f9645",
   "metadata": {},
   "outputs": [],
   "source": [
    "a=np.array([1,2,3,4,5])\n",
    "b=np.array([2,5,6,7,8])"
   ]
  },
  {
   "cell_type": "code",
   "execution_count": 162,
   "id": "39ccf403-63b4-46d3-9675-f12359704e32",
   "metadata": {},
   "outputs": [
    {
     "data": {
      "text/plain": [
       "array([1, 2, 3, 4, 5, 2, 5, 6, 7, 8])"
      ]
     },
     "execution_count": 162,
     "metadata": {},
     "output_type": "execute_result"
    }
   ],
   "source": [
    "np.hstack([a,b])"
   ]
  },
  {
   "cell_type": "code",
   "execution_count": 163,
   "id": "d9dbd6e2-17d3-4d08-9873-e8f3cf6151ef",
   "metadata": {},
   "outputs": [
    {
     "data": {
      "text/plain": [
       "array([[1, 2, 3, 4, 5],\n",
       "       [2, 5, 6, 7, 8]])"
      ]
     },
     "execution_count": 163,
     "metadata": {},
     "output_type": "execute_result"
    }
   ],
   "source": [
    "np.vstack([a,b])"
   ]
  },
  {
   "cell_type": "code",
   "execution_count": null,
   "id": "326b5f72-3225-49ca-a4e4-dafc4aa35b7e",
   "metadata": {
    "collapsed": true,
    "jupyter": {
     "outputs_hidden": true
    }
   },
   "outputs": [],
   "source": []
  },
  {
   "cell_type": "code",
   "execution_count": null,
   "id": "3dc76892-2e3c-4c18-9ad6-406532fb63e7",
   "metadata": {
    "collapsed": true,
    "jupyter": {
     "outputs_hidden": true
    }
   },
   "outputs": [],
   "source": []
  },
  {
   "cell_type": "code",
   "execution_count": null,
   "id": "f4e594f9-bd0b-4a13-b78e-03819cd77f34",
   "metadata": {
    "collapsed": true,
    "jupyter": {
     "outputs_hidden": true
    }
   },
   "outputs": [],
   "source": []
  },
  {
   "cell_type": "code",
   "execution_count": null,
   "id": "e319239a-f3df-4512-aaea-14fa019dc949",
   "metadata": {
    "collapsed": true,
    "jupyter": {
     "outputs_hidden": true
    }
   },
   "outputs": [],
   "source": []
  },
  {
   "cell_type": "code",
   "execution_count": null,
   "id": "9b4bceed-c6be-46cb-9efa-035f9e0c6c21",
   "metadata": {
    "collapsed": true,
    "jupyter": {
     "outputs_hidden": true
    }
   },
   "outputs": [],
   "source": []
  },
  {
   "cell_type": "code",
   "execution_count": null,
   "id": "e1992ef5-28d1-4128-866a-918364e3915d",
   "metadata": {
    "collapsed": true,
    "jupyter": {
     "outputs_hidden": true
    }
   },
   "outputs": [],
   "source": []
  },
  {
   "cell_type": "code",
   "execution_count": null,
   "id": "da321eda-3d33-4d3d-b727-0e375b438fa4",
   "metadata": {
    "collapsed": true,
    "jupyter": {
     "outputs_hidden": true
    }
   },
   "outputs": [],
   "source": []
  },
  {
   "cell_type": "code",
   "execution_count": null,
   "id": "cb7331f6-fa59-43e6-91f9-d6b2cdb53b55",
   "metadata": {
    "collapsed": true,
    "jupyter": {
     "outputs_hidden": true
    }
   },
   "outputs": [],
   "source": []
  },
  {
   "cell_type": "code",
   "execution_count": null,
   "id": "984db410-56c3-40b7-8602-697be3c53fc7",
   "metadata": {
    "collapsed": true,
    "jupyter": {
     "outputs_hidden": true
    }
   },
   "outputs": [],
   "source": []
  },
  {
   "cell_type": "code",
   "execution_count": null,
   "id": "59fd5a79-752b-4dbc-a8d8-b452baf9598e",
   "metadata": {
    "collapsed": true,
    "jupyter": {
     "outputs_hidden": true
    }
   },
   "outputs": [],
   "source": []
  },
  {
   "cell_type": "code",
   "execution_count": null,
   "id": "62416f71-f6e2-4758-8318-945444ede09c",
   "metadata": {
    "collapsed": true,
    "jupyter": {
     "outputs_hidden": true
    }
   },
   "outputs": [],
   "source": []
  },
  {
   "cell_type": "code",
   "execution_count": null,
   "id": "d58434df-95f3-42f9-98c4-d265774c2952",
   "metadata": {
    "collapsed": true,
    "jupyter": {
     "outputs_hidden": true
    }
   },
   "outputs": [],
   "source": []
  },
  {
   "cell_type": "code",
   "execution_count": null,
   "id": "9fdf2f0f-984c-4c04-bf12-cc1d05804e4c",
   "metadata": {
    "collapsed": true,
    "jupyter": {
     "outputs_hidden": true
    }
   },
   "outputs": [],
   "source": []
  },
  {
   "cell_type": "code",
   "execution_count": null,
   "id": "c6a091c5-5d99-43bc-ba70-009f43c50553",
   "metadata": {
    "collapsed": true,
    "jupyter": {
     "outputs_hidden": true
    }
   },
   "outputs": [],
   "source": []
  }
 ],
 "metadata": {
  "kernelspec": {
   "display_name": "Python 3 (ipykernel)",
   "language": "python",
   "name": "python3"
  },
  "language_info": {
   "codemirror_mode": {
    "name": "ipython",
    "version": 3
   },
   "file_extension": ".py",
   "mimetype": "text/x-python",
   "name": "python",
   "nbconvert_exporter": "python",
   "pygments_lexer": "ipython3",
   "version": "3.11.5"
  }
 },
 "nbformat": 4,
 "nbformat_minor": 5
}
