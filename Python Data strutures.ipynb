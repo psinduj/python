{
 "cells": [
  {
   "cell_type": "markdown",
   "id": "e8d0f065-47f0-4a8c-9fdb-41a3a538bfb7",
   "metadata": {
    "editable": true,
    "slideshow": {
     "slide_type": ""
    },
    "tags": []
   },
   "source": [
    "Data structures\n",
    "\n",
    "sets\n",
    "tuples----immutable\n",
    "lists\n",
    "dictionary---mutable"
   ]
  },
  {
   "cell_type": "code",
   "execution_count": null,
   "id": "89bc79b8-a84b-4e87-a4eb-76ef23dbb796",
   "metadata": {},
   "outputs": [],
   "source": []
  }
 ],
 "metadata": {
  "kernelspec": {
   "display_name": "Python 3 (ipykernel)",
   "language": "python",
   "name": "python3"
  },
  "language_info": {
   "codemirror_mode": {
    "name": "ipython",
    "version": 3
   },
   "file_extension": ".py",
   "mimetype": "text/x-python",
   "name": "python",
   "nbconvert_exporter": "python",
   "pygments_lexer": "ipython3",
   "version": "3.11.5"
  }
 },
 "nbformat": 4,
 "nbformat_minor": 5
}
